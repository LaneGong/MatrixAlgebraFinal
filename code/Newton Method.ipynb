{
 "cells": [
  {
   "cell_type": "code",
   "execution_count": 2,
   "id": "832dc196",
   "metadata": {},
   "outputs": [],
   "source": [
    "import numpy as np\n",
    "import matplotlib.pyplot as plt\n",
    "import pandas as pd\n",
    "from sympy import *"
   ]
  },
  {
   "cell_type": "code",
   "execution_count": 3,
   "id": "c1cc927f",
   "metadata": {},
   "outputs": [],
   "source": [
    "x0=50#初始值\n",
    "step=20#设置迭代次数\n",
    "plt.style.use('ggplot')# 设置风格"
   ]
  },
  {
   "cell_type": "code",
   "execution_count": 4,
   "id": "bdbd7c96",
   "metadata": {},
   "outputs": [],
   "source": [
    "#拟合好的函数\n",
    "gaussian_function=lambda x:25650.84*np.exp(-(x-17.29)**2/140.05)#拟合的高斯函数\n",
    "exponent_function=lambda x:(x-17.29)**2/140.05#找A(x)"
   ]
  },
  {
   "cell_type": "code",
   "execution_count": 5,
   "id": "4cd8658a",
   "metadata": {},
   "outputs": [],
   "source": [
    "x = np.arange(0,x0,0.05)\n",
    "y=exponent_function(x)"
   ]
  },
  {
   "cell_type": "code",
   "execution_count": 6,
   "id": "cfd9024d",
   "metadata": {},
   "outputs": [],
   "source": [
    "#迭代法,一元\n",
    "def iterative(x0=x0,step=step):\n",
    "    number=1\n",
    "    x=symbols('x')\n",
    "    iterx=[x0]\n",
    "    xi=x0\n",
    "    deri=diff(0.0071*x**2-0.247*x+2.135,x)\n",
    "    #sec_deri=diff(0.0071*x**2-0.247*x+2.135,x,2)\n",
    "    while number <= step:\n",
    "        plt.scatter(xi,exponent_function(xi),c='black')\n",
    "        xi=xi-(exponent_function(xi)/(deri.subs(x,xi)))\n",
    "        iterx.append(xi)\n",
    "        number=number+1\n",
    "    return xi,iterx"
   ]
  },
  {
   "cell_type": "code",
   "execution_count": 14,
   "id": "8d7edfa6",
   "metadata": {},
   "outputs": [
    {
     "data": {
      "image/png": "[encoded data removed]",
      "text/plain": [
       "<Figure size 576x432 with 1 Axes>"
      ]
     },
     "metadata": {},
     "output_type": "display_data"
    }
   ],
   "source": [
    "#运算+函数图像\n",
    "fig1=plt.figure(figsize = (8, 6))\n",
    "plt.xlabel('X')\n",
    "plt.ylabel('Y')\n",
    "plt.hlines(0,0,x0,'black','--')\n",
    "plt.plot(x,y)\n",
    "xi,iterx=iterative(x0,step)\n",
    "iter_x=np.array(iterx,dtype='float')\n",
    "for i in iter_x:\n",
    "    itery=0.0071*i**2-0.247*i+2.135\n",
    "    plt.vlines(i,0,itery,'blue','--')\n",
    "plt.text(xi,exponent_function(xi)+0.5,'x=17', ha='left', va='bottom', fontsize=13,color='red')\n",
    "plt.grid()\n",
    "plt.show()"
   ]
  },
  {
   "cell_type": "code",
   "execution_count": 8,
   "id": "b4c334d1",
   "metadata": {},
   "outputs": [
    {
     "name": "stdout",
     "output_type": "stream",
     "text": [
      "疫情拐点出现在第17天\n"
     ]
    }
   ],
   "source": [
    "print('疫情拐点出现在第%d天'%xi)"
   ]
  },
  {
   "cell_type": "code",
   "execution_count": null,
   "id": "e0d301d1",
   "metadata": {},
   "outputs": [],
   "source": []
  }
 ],
 "metadata": {
  "kernelspec": {
   "display_name": "Python 3 (ipykernel)",
   "language": "python",
   "name": "python3"
  },
  "language_info": {
   "codemirror_mode": {
    "name": "ipython",
    "version": 3
   },
   "file_extension": ".py",
   "mimetype": "text/x-python",
   "name": "python",
   "nbconvert_exporter": "python",
   "pygments_lexer": "ipython3",
   "version": "3.8.8"
  }
 },
 "nbformat": 4,
 "nbformat_minor": 5
}
